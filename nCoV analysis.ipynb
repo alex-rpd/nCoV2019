{
 "cells": [
  {
   "cell_type": "code",
   "execution_count": 47,
   "metadata": {},
   "outputs": [],
   "source": [
    "import pandas as pd\n",
    "import os\n",
    "import glob\n",
    "import datetime\n",
    "import matplotlib.pyplot as plt\n",
    "import plotly.express as px\n",
    "from jupyterthemes import jtplot\n",
    "import pickle\n",
    "\n",
    "# import requests\n",
    "# from bs4 import BeautifulSoup\n",
    "import git\n",
    "\n",
    "jtplot.style()"
   ]
  },
  {
   "cell_type": "markdown",
   "metadata": {},
   "source": [
    "If the cell above gives any errors for missing packages, simply:\n",
    "`!pip install PACKAGE`,\n",
    "\n",
    "where `PACKAGE` is the missing package, e.g. for git: it's \n",
    "\n",
    "`!pip install GitPython`"
   ]
  },
  {
   "cell_type": "markdown",
   "metadata": {},
   "source": [
    "# Update data"
   ]
  },
  {
   "cell_type": "markdown",
   "metadata": {},
   "source": [
    "check remote git:\n",
    "    \n",
    "`git remote show origin`"
   ]
  },
  {
   "cell_type": "code",
   "execution_count": 46,
   "metadata": {
    "scrolled": true
   },
   "outputs": [
    {
     "data": {
      "text/plain": [
       "'Already up to date.'"
      ]
     },
     "execution_count": 46,
     "metadata": {},
     "output_type": "execute_result"
    }
   ],
   "source": [
    "git_dir = r'./COVID-19/'\n",
    "\n",
    "g = git.cmd.Git(git_dir)\n",
    "g.fetch()\n",
    "g.pull()"
   ]
  },
  {
   "cell_type": "markdown",
   "metadata": {},
   "source": [
    "# Create the dataframe from the different files"
   ]
  },
  {
   "cell_type": "code",
   "execution_count": 4,
   "metadata": {},
   "outputs": [],
   "source": [
    "ending = 'csv'\n",
    "path_to_files = r'./COVID-19/csse_covid_19_data/csse_covid_19_time_series'\n",
    "\n",
    "all_paths = glob.glob(os.path.join(path_to_files, f'*.{ending}'))"
   ]
  },
  {
   "cell_type": "code",
   "execution_count": 5,
   "metadata": {},
   "outputs": [
    {
     "data": {
      "text/plain": [
       "['./COVID-19/csse_covid_19_data/csse_covid_19_time_series/time_series_19-covid-Recovered.csv',\n",
       " './COVID-19/csse_covid_19_data/csse_covid_19_time_series/time_series_19-covid-Deaths.csv',\n",
       " './COVID-19/csse_covid_19_data/csse_covid_19_time_series/time_series_19-covid-Confirmed.csv']"
      ]
     },
     "execution_count": 5,
     "metadata": {},
     "output_type": "execute_result"
    }
   ],
   "source": [
    "all_paths"
   ]
  },
  {
   "cell_type": "code",
   "execution_count": 6,
   "metadata": {},
   "outputs": [],
   "source": [
    "df_list = list()\n",
    "\n",
    "for f in all_paths:\n",
    "    foo = pd.read_csv(f)\n",
    "    foo = pd.melt(foo, id_vars=[\n",
    "                  'Province/State', 'Country/Region', 'Lat', 'Long'], var_name=['Date'])\n",
    "    foo['Date'] = pd.to_datetime(foo['Date'])\n",
    "    foo.columns = foo.columns.str.replace(\n",
    "        'value', f.split(\"-\")[-1].split(\".\")[0])\n",
    "    foo['Province/State'].fillna(foo['Country/Region'], inplace=True)\n",
    "    foo.set_index(['Province/State', 'Country/Region',\n",
    "                   'Date', 'Lat', 'Long'], inplace=True)\n",
    "    df_list.append(foo)"
   ]
  },
  {
   "cell_type": "code",
   "execution_count": 7,
   "metadata": {},
   "outputs": [
    {
     "data": {
      "text/plain": [
       "(23426, 8)"
      ]
     },
     "execution_count": 7,
     "metadata": {},
     "output_type": "execute_result"
    }
   ],
   "source": [
    "df = pd.concat(df_list, axis = 1).reset_index()\n",
    "df.shape"
   ]
  },
  {
   "cell_type": "code",
   "execution_count": null,
   "metadata": {},
   "outputs": [],
   "source": [
    "# europe = dict()\n",
    "\n",
    "# URL = \"https://en.wikipedia.org/wiki/Member_state_of_the_European_Union\"\n",
    "\n",
    "# res = requests.get(URL).text\n",
    "# soup = BeautifulSoup(res,'lxml')\n",
    "# for items in soup.find('table', class_='wikitable').find_all('tr')[1::1]:\n",
    "#     data = items.find_all(['th','td'])\n",
    "#     try:\n",
    "#         country = data[0].a.text\n",
    "#         europe[country] = 'EU'\n",
    "#     except IndexError:\n",
    "#         pass"
   ]
  },
  {
   "cell_type": "code",
   "execution_count": 8,
   "metadata": {},
   "outputs": [
    {
     "data": {
      "text/plain": [
       "<matplotlib.axes._subplots.AxesSubplot at 0x118b79e50>"
      ]
     },
     "execution_count": 8,
     "metadata": {},
     "output_type": "execute_result"
    },
    {
     "data": {
      "image/png": "[encoded data removed]",
      "text/plain": [
       "<Figure size 432x288 with 1 Axes>"
      ]
     },
     "metadata": {
      "needs_background": "dark"
     },
     "output_type": "display_data"
    }
   ],
   "source": [
    "df[df['Country/Region'] == 'United Kingdom'].groupby(\n",
    "    ['Date', 'Country/Region']).sum()[['Confirmed', 'Deaths', 'Recovered']].plot()"
   ]
  },
  {
   "cell_type": "code",
   "execution_count": 48,
   "metadata": {},
   "outputs": [],
   "source": [
    "# Save to pickle\n",
    "\n",
    "with open('country_continent.pickle', 'wb') as handle:\n",
    "    pickle.dump(country_continent, handle, protocol=pickle.HIGHEST_PROTOCOL)"
   ]
  },
  {
   "cell_type": "code",
   "execution_count": null,
   "metadata": {},
   "outputs": [],
   "source": [
    "# Read pickle\n",
    "with open('country_continent.pickle', 'rb') as handle:\n",
    "    country_continent = pickle.load(handle)"
   ]
  },
  {
   "cell_type": "code",
   "execution_count": 10,
   "metadata": {},
   "outputs": [],
   "source": [
    "df2 = df.copy()\n",
    "df2['Date_1'] = df2['Date'] + pd.Timedelta(days=1)\n",
    "df2.rename(columns={'Confirmed': 'Confrimed_1',\n",
    "                    'Deaths': 'Deaths_1',\n",
    "                    'Recovered': 'Recovered_1',\n",
    "                    'Date': 'Date_Minus_1'}, inplace=True)"
   ]
  },
  {
   "cell_type": "code",
   "execution_count": 11,
   "metadata": {},
   "outputs": [],
   "source": [
    "df3 = df.merge(df2[['Province/State',\n",
    "                    'Country/Region',\n",
    "                    'Confrimed_1',\n",
    "                    'Deaths_1',\n",
    "                    'Recovered_1',\n",
    "                    'Date_1',\n",
    "                    'Date_Minus_1']], how='left',\n",
    "               left_on=['Province/State', 'Country/Region', 'Date'],\n",
    "               right_on=['Province/State', 'Country/Region', 'Date_1'])"
   ]
  },
  {
   "cell_type": "code",
   "execution_count": 12,
   "metadata": {},
   "outputs": [],
   "source": [
    "df3['ConfirmedDaily'] = df3['Confirmed'] - df3['Confrimed_1']\n",
    "df3['DeathsDaily'] = df3['Deaths'] - df3['Deaths_1']\n",
    "df3['RecoveredDaily'] = df3['Recovered'] - df3['Recovered_1']"
   ]
  },
  {
   "cell_type": "code",
   "execution_count": 13,
   "metadata": {},
   "outputs": [
    {
     "name": "stderr",
     "output_type": "stream",
     "text": [
      "/Users/Arapidis/opt/anaconda3/lib/python3.7/site-packages/pandas/core/indexing.py:670: SettingWithCopyWarning:\n",
      "\n",
      "\n",
      "A value is trying to be set on a copy of a slice from a DataFrame\n",
      "\n",
      "See the caveats in the documentation: https://pandas.pydata.org/pandas-docs/stable/user_guide/indexing.html#returning-a-view-versus-a-copy\n",
      "\n"
     ]
    }
   ],
   "source": [
    "df3['ConfirmedDaily'].loc[df3['Date'] == '2020-01-22'] = df3['Confirmed']\n",
    "df3['DeathsDaily'].loc[df3['Date'] == '2020-01-22'] = df3['Deaths']\n",
    "df3['RecoveredDaily'].loc[df3['Date'] == '2020-01-22'] = df3['Recovered']\n",
    "\n",
    "del df3['Confrimed_1']\n",
    "del df3['Deaths_1']\n",
    "del df3['Recovered_1']\n",
    "del df3['Date_1']\n",
    "del df3['Date_Minus_1']"
   ]
  },
  {
   "cell_type": "code",
   "execution_count": 14,
   "metadata": {},
   "outputs": [
    {
     "data": {
      "text/plain": [
       "(5819.0, 156102.0, 72624.0)"
      ]
     },
     "execution_count": 14,
     "metadata": {},
     "output_type": "execute_result"
    }
   ],
   "source": [
    "df3.DeathsDaily.sum(), df3.ConfirmedDaily.sum(), df3.RecoveredDaily.sum()"
   ]
  },
  {
   "cell_type": "code",
   "execution_count": 15,
   "metadata": {},
   "outputs": [],
   "source": [
    "df3['MonthYear'] = df3['Date'].dt.strftime('%b-%Y')"
   ]
  },
  {
   "cell_type": "code",
   "execution_count": 16,
   "metadata": {},
   "outputs": [],
   "source": [
    "df3['Continent'] = df3['Country/Region'].map(country_continent)"
   ]
  },
  {
   "cell_type": "code",
   "execution_count": 17,
   "metadata": {},
   "outputs": [
    {
     "name": "stdout",
     "output_type": "stream",
     "text": [
      "All good\n"
     ]
    }
   ],
   "source": [
    "if len(df3[df3['Continent'].isna()]) == 0:\n",
    "    print('All good')"
   ]
  },
  {
   "cell_type": "code",
   "execution_count": 18,
   "metadata": {},
   "outputs": [],
   "source": [
    "df3['DeathRate'] = df3['Deaths'] / df3['Confirmed']\n",
    "df3['RecoveredRate'] = df3['Recovered'] / df3['Confirmed']"
   ]
  },
  {
   "cell_type": "code",
   "execution_count": 19,
   "metadata": {},
   "outputs": [
    {
     "data": {
      "text/html": [
       "<div>\n",
       "<style scoped>\n",
       "    .dataframe tbody tr th:only-of-type {\n",
       "        vertical-align: middle;\n",
       "    }\n",
       "\n",
       "    .dataframe tbody tr th {\n",
       "        vertical-align: top;\n",
       "    }\n",
       "\n",
       "    .dataframe thead th {\n",
       "        text-align: right;\n",
       "    }\n",
       "</style>\n",
       "<table border=\"1\" class=\"dataframe\">\n",
       "  <thead>\n",
       "    <tr style=\"text-align: right;\">\n",
       "      <th></th>\n",
       "      <th>Province/State</th>\n",
       "      <th>Country/Region</th>\n",
       "      <th>Date</th>\n",
       "      <th>Lat</th>\n",
       "      <th>Long</th>\n",
       "      <th>Recovered</th>\n",
       "      <th>Deaths</th>\n",
       "      <th>Confirmed</th>\n",
       "      <th>ConfirmedDaily</th>\n",
       "      <th>DeathsDaily</th>\n",
       "      <th>RecoveredDaily</th>\n",
       "      <th>MonthYear</th>\n",
       "      <th>Continent</th>\n",
       "      <th>DeathRate</th>\n",
       "      <th>RecoveredRate</th>\n",
       "    </tr>\n",
       "  </thead>\n",
       "  <tbody>\n",
       "    <tr>\n",
       "      <th>0</th>\n",
       "      <td>Adams, IN</td>\n",
       "      <td>US</td>\n",
       "      <td>2020-01-22</td>\n",
       "      <td>39.8522</td>\n",
       "      <td>-77.2865</td>\n",
       "      <td>0</td>\n",
       "      <td>0</td>\n",
       "      <td>0</td>\n",
       "      <td>0.0</td>\n",
       "      <td>0.0</td>\n",
       "      <td>0.0</td>\n",
       "      <td>Jan-2020</td>\n",
       "      <td>North America</td>\n",
       "      <td>NaN</td>\n",
       "      <td>NaN</td>\n",
       "    </tr>\n",
       "    <tr>\n",
       "      <th>1</th>\n",
       "      <td>Adams, IN</td>\n",
       "      <td>US</td>\n",
       "      <td>2020-01-23</td>\n",
       "      <td>39.8522</td>\n",
       "      <td>-77.2865</td>\n",
       "      <td>0</td>\n",
       "      <td>0</td>\n",
       "      <td>0</td>\n",
       "      <td>0.0</td>\n",
       "      <td>0.0</td>\n",
       "      <td>0.0</td>\n",
       "      <td>Jan-2020</td>\n",
       "      <td>North America</td>\n",
       "      <td>NaN</td>\n",
       "      <td>NaN</td>\n",
       "    </tr>\n",
       "    <tr>\n",
       "      <th>2</th>\n",
       "      <td>Adams, IN</td>\n",
       "      <td>US</td>\n",
       "      <td>2020-01-24</td>\n",
       "      <td>39.8522</td>\n",
       "      <td>-77.2865</td>\n",
       "      <td>0</td>\n",
       "      <td>0</td>\n",
       "      <td>0</td>\n",
       "      <td>0.0</td>\n",
       "      <td>0.0</td>\n",
       "      <td>0.0</td>\n",
       "      <td>Jan-2020</td>\n",
       "      <td>North America</td>\n",
       "      <td>NaN</td>\n",
       "      <td>NaN</td>\n",
       "    </tr>\n",
       "    <tr>\n",
       "      <th>3</th>\n",
       "      <td>Adams, IN</td>\n",
       "      <td>US</td>\n",
       "      <td>2020-01-25</td>\n",
       "      <td>39.8522</td>\n",
       "      <td>-77.2865</td>\n",
       "      <td>0</td>\n",
       "      <td>0</td>\n",
       "      <td>0</td>\n",
       "      <td>0.0</td>\n",
       "      <td>0.0</td>\n",
       "      <td>0.0</td>\n",
       "      <td>Jan-2020</td>\n",
       "      <td>North America</td>\n",
       "      <td>NaN</td>\n",
       "      <td>NaN</td>\n",
       "    </tr>\n",
       "    <tr>\n",
       "      <th>4</th>\n",
       "      <td>Adams, IN</td>\n",
       "      <td>US</td>\n",
       "      <td>2020-01-26</td>\n",
       "      <td>39.8522</td>\n",
       "      <td>-77.2865</td>\n",
       "      <td>0</td>\n",
       "      <td>0</td>\n",
       "      <td>0</td>\n",
       "      <td>0.0</td>\n",
       "      <td>0.0</td>\n",
       "      <td>0.0</td>\n",
       "      <td>Jan-2020</td>\n",
       "      <td>North America</td>\n",
       "      <td>NaN</td>\n",
       "      <td>NaN</td>\n",
       "    </tr>\n",
       "  </tbody>\n",
       "</table>\n",
       "</div>"
      ],
      "text/plain": [
       "  Province/State Country/Region       Date      Lat     Long  Recovered  \\\n",
       "0      Adams, IN             US 2020-01-22  39.8522 -77.2865          0   \n",
       "1      Adams, IN             US 2020-01-23  39.8522 -77.2865          0   \n",
       "2      Adams, IN             US 2020-01-24  39.8522 -77.2865          0   \n",
       "3      Adams, IN             US 2020-01-25  39.8522 -77.2865          0   \n",
       "4      Adams, IN             US 2020-01-26  39.8522 -77.2865          0   \n",
       "\n",
       "   Deaths  Confirmed  ConfirmedDaily  DeathsDaily  RecoveredDaily MonthYear  \\\n",
       "0       0          0             0.0          0.0             0.0  Jan-2020   \n",
       "1       0          0             0.0          0.0             0.0  Jan-2020   \n",
       "2       0          0             0.0          0.0             0.0  Jan-2020   \n",
       "3       0          0             0.0          0.0             0.0  Jan-2020   \n",
       "4       0          0             0.0          0.0             0.0  Jan-2020   \n",
       "\n",
       "       Continent  DeathRate  RecoveredRate  \n",
       "0  North America        NaN            NaN  \n",
       "1  North America        NaN            NaN  \n",
       "2  North America        NaN            NaN  \n",
       "3  North America        NaN            NaN  \n",
       "4  North America        NaN            NaN  "
      ]
     },
     "execution_count": 19,
     "metadata": {},
     "output_type": "execute_result"
    }
   ],
   "source": [
    "df3.head()"
   ]
  },
  {
   "cell_type": "markdown",
   "metadata": {},
   "source": [
    "# Plots"
   ]
  },
  {
   "cell_type": "code",
   "execution_count": 36,
   "metadata": {},
   "outputs": [
    {
     "name": "stdout",
     "output_type": "stream",
     "text": [
      "North America\n"
     ]
    },
    {
     "data": {
      "image/png": "[encoded data removed]",
      "text/plain": [
       "<Figure size 432x288 with 1 Axes>"
      ]
     },
     "metadata": {
      "needs_background": "dark"
     },
     "output_type": "display_data"
    }
   ],
   "source": [
    "values = ['DeathsDaily', 'Deaths']\n",
    "for c in df3['Continent'].unique():\n",
    "    foo = df3[df3['Continent'] == c]\n",
    "    x = foo.groupby(['Country/Region', 'Date']).sum().reset_index()['Date']\n",
    "    y = foo.groupby(['Country/Region', 'Date']).sum()[values]\n",
    "    plt.plot(x, y)\n",
    "    print(c)\n",
    "    break"
   ]
  },
  {
   "cell_type": "code",
   "execution_count": 42,
   "metadata": {},
   "outputs": [
    {
     "data": {
      "image/png": "[encoded data removed]",
      "text/plain": [
       "<Figure size 432x288 with 1 Axes>"
      ]
     },
     "metadata": {
      "needs_background": "dark"
     },
     "output_type": "display_data"
    }
   ],
   "source": [
    "values = ['DeathsDaily', 'Deaths']\n",
    "c = 'North America'\n",
    "foo = df3[df3['Continent'] == c]\n",
    "x = foo.groupby(['Country/Region', 'Date']).sum().reset_index()['Date']\n",
    "y = foo.groupby(['Country/Region', 'Date']).sum().reset_index()[values]\n",
    "plt.plot(x, y)\n",
    "plt.show()"
   ]
  },
  {
   "cell_type": "code",
   "execution_count": 45,
   "metadata": {},
   "outputs": [
    {
     "data": {
      "text/html": [
       "<div>\n",
       "<style scoped>\n",
       "    .dataframe tbody tr th:only-of-type {\n",
       "        vertical-align: middle;\n",
       "    }\n",
       "\n",
       "    .dataframe tbody tr th {\n",
       "        vertical-align: top;\n",
       "    }\n",
       "\n",
       "    .dataframe thead th {\n",
       "        text-align: right;\n",
       "    }\n",
       "</style>\n",
       "<table border=\"1\" class=\"dataframe\">\n",
       "  <thead>\n",
       "    <tr style=\"text-align: right;\">\n",
       "      <th></th>\n",
       "      <th>Country/Region</th>\n",
       "      <th>Date</th>\n",
       "      <th>Lat</th>\n",
       "      <th>Long</th>\n",
       "      <th>Recovered</th>\n",
       "      <th>Deaths</th>\n",
       "      <th>Confirmed</th>\n",
       "      <th>ConfirmedDaily</th>\n",
       "      <th>DeathsDaily</th>\n",
       "      <th>RecoveredDaily</th>\n",
       "      <th>DeathRate</th>\n",
       "      <th>RecoveredRate</th>\n",
       "    </tr>\n",
       "  </thead>\n",
       "  <tbody>\n",
       "    <tr>\n",
       "      <th>0</th>\n",
       "      <td>Antigua and Barbuda</td>\n",
       "      <td>2020-01-22</td>\n",
       "      <td>17.0608</td>\n",
       "      <td>-61.7964</td>\n",
       "      <td>0</td>\n",
       "      <td>0</td>\n",
       "      <td>0</td>\n",
       "      <td>0.0</td>\n",
       "      <td>0.0</td>\n",
       "      <td>0.0</td>\n",
       "      <td>0.000000</td>\n",
       "      <td>0.000000</td>\n",
       "    </tr>\n",
       "    <tr>\n",
       "      <th>1</th>\n",
       "      <td>Antigua and Barbuda</td>\n",
       "      <td>2020-01-23</td>\n",
       "      <td>17.0608</td>\n",
       "      <td>-61.7964</td>\n",
       "      <td>0</td>\n",
       "      <td>0</td>\n",
       "      <td>0</td>\n",
       "      <td>0.0</td>\n",
       "      <td>0.0</td>\n",
       "      <td>0.0</td>\n",
       "      <td>0.000000</td>\n",
       "      <td>0.000000</td>\n",
       "    </tr>\n",
       "    <tr>\n",
       "      <th>2</th>\n",
       "      <td>Antigua and Barbuda</td>\n",
       "      <td>2020-01-24</td>\n",
       "      <td>17.0608</td>\n",
       "      <td>-61.7964</td>\n",
       "      <td>0</td>\n",
       "      <td>0</td>\n",
       "      <td>0</td>\n",
       "      <td>0.0</td>\n",
       "      <td>0.0</td>\n",
       "      <td>0.0</td>\n",
       "      <td>0.000000</td>\n",
       "      <td>0.000000</td>\n",
       "    </tr>\n",
       "    <tr>\n",
       "      <th>3</th>\n",
       "      <td>Antigua and Barbuda</td>\n",
       "      <td>2020-01-25</td>\n",
       "      <td>17.0608</td>\n",
       "      <td>-61.7964</td>\n",
       "      <td>0</td>\n",
       "      <td>0</td>\n",
       "      <td>0</td>\n",
       "      <td>0.0</td>\n",
       "      <td>0.0</td>\n",
       "      <td>0.0</td>\n",
       "      <td>0.000000</td>\n",
       "      <td>0.000000</td>\n",
       "    </tr>\n",
       "    <tr>\n",
       "      <th>4</th>\n",
       "      <td>Antigua and Barbuda</td>\n",
       "      <td>2020-01-26</td>\n",
       "      <td>17.0608</td>\n",
       "      <td>-61.7964</td>\n",
       "      <td>0</td>\n",
       "      <td>0</td>\n",
       "      <td>0</td>\n",
       "      <td>0.0</td>\n",
       "      <td>0.0</td>\n",
       "      <td>0.0</td>\n",
       "      <td>0.000000</td>\n",
       "      <td>0.000000</td>\n",
       "    </tr>\n",
       "    <tr>\n",
       "      <th>...</th>\n",
       "      <td>...</td>\n",
       "      <td>...</td>\n",
       "      <td>...</td>\n",
       "      <td>...</td>\n",
       "      <td>...</td>\n",
       "      <td>...</td>\n",
       "      <td>...</td>\n",
       "      <td>...</td>\n",
       "      <td>...</td>\n",
       "      <td>...</td>\n",
       "      <td>...</td>\n",
       "      <td>...</td>\n",
       "    </tr>\n",
       "    <tr>\n",
       "      <th>1002</th>\n",
       "      <td>US</td>\n",
       "      <td>2020-03-10</td>\n",
       "      <td>9517.5591</td>\n",
       "      <td>-23096.6146</td>\n",
       "      <td>8</td>\n",
       "      <td>28</td>\n",
       "      <td>959</td>\n",
       "      <td>376.0</td>\n",
       "      <td>6.0</td>\n",
       "      <td>1.0</td>\n",
       "      <td>0.300031</td>\n",
       "      <td>0.695170</td>\n",
       "    </tr>\n",
       "    <tr>\n",
       "      <th>1003</th>\n",
       "      <td>US</td>\n",
       "      <td>2020-03-11</td>\n",
       "      <td>9517.5591</td>\n",
       "      <td>-23096.6146</td>\n",
       "      <td>8</td>\n",
       "      <td>36</td>\n",
       "      <td>1281</td>\n",
       "      <td>322.0</td>\n",
       "      <td>8.0</td>\n",
       "      <td>0.0</td>\n",
       "      <td>0.336091</td>\n",
       "      <td>0.382336</td>\n",
       "    </tr>\n",
       "    <tr>\n",
       "      <th>1004</th>\n",
       "      <td>US</td>\n",
       "      <td>2020-03-12</td>\n",
       "      <td>9517.5591</td>\n",
       "      <td>-23096.6146</td>\n",
       "      <td>12</td>\n",
       "      <td>40</td>\n",
       "      <td>1663</td>\n",
       "      <td>382.0</td>\n",
       "      <td>4.0</td>\n",
       "      <td>4.0</td>\n",
       "      <td>0.337119</td>\n",
       "      <td>0.337282</td>\n",
       "    </tr>\n",
       "    <tr>\n",
       "      <th>1005</th>\n",
       "      <td>US</td>\n",
       "      <td>2020-03-13</td>\n",
       "      <td>9517.5591</td>\n",
       "      <td>-23096.6146</td>\n",
       "      <td>12</td>\n",
       "      <td>47</td>\n",
       "      <td>2179</td>\n",
       "      <td>516.0</td>\n",
       "      <td>7.0</td>\n",
       "      <td>0.0</td>\n",
       "      <td>0.502618</td>\n",
       "      <td>0.238388</td>\n",
       "    </tr>\n",
       "    <tr>\n",
       "      <th>1006</th>\n",
       "      <td>US</td>\n",
       "      <td>2020-03-14</td>\n",
       "      <td>9517.5591</td>\n",
       "      <td>-23096.6146</td>\n",
       "      <td>12</td>\n",
       "      <td>54</td>\n",
       "      <td>2727</td>\n",
       "      <td>548.0</td>\n",
       "      <td>7.0</td>\n",
       "      <td>0.0</td>\n",
       "      <td>0.435708</td>\n",
       "      <td>0.178262</td>\n",
       "    </tr>\n",
       "  </tbody>\n",
       "</table>\n",
       "<p>1007 rows × 12 columns</p>\n",
       "</div>"
      ],
      "text/plain": [
       "           Country/Region       Date        Lat        Long  Recovered  \\\n",
       "0     Antigua and Barbuda 2020-01-22    17.0608    -61.7964          0   \n",
       "1     Antigua and Barbuda 2020-01-23    17.0608    -61.7964          0   \n",
       "2     Antigua and Barbuda 2020-01-24    17.0608    -61.7964          0   \n",
       "3     Antigua and Barbuda 2020-01-25    17.0608    -61.7964          0   \n",
       "4     Antigua and Barbuda 2020-01-26    17.0608    -61.7964          0   \n",
       "...                   ...        ...        ...         ...        ...   \n",
       "1002                   US 2020-03-10  9517.5591 -23096.6146          8   \n",
       "1003                   US 2020-03-11  9517.5591 -23096.6146          8   \n",
       "1004                   US 2020-03-12  9517.5591 -23096.6146         12   \n",
       "1005                   US 2020-03-13  9517.5591 -23096.6146         12   \n",
       "1006                   US 2020-03-14  9517.5591 -23096.6146         12   \n",
       "\n",
       "      Deaths  Confirmed  ConfirmedDaily  DeathsDaily  RecoveredDaily  \\\n",
       "0          0          0             0.0          0.0             0.0   \n",
       "1          0          0             0.0          0.0             0.0   \n",
       "2          0          0             0.0          0.0             0.0   \n",
       "3          0          0             0.0          0.0             0.0   \n",
       "4          0          0             0.0          0.0             0.0   \n",
       "...      ...        ...             ...          ...             ...   \n",
       "1002      28        959           376.0          6.0             1.0   \n",
       "1003      36       1281           322.0          8.0             0.0   \n",
       "1004      40       1663           382.0          4.0             4.0   \n",
       "1005      47       2179           516.0          7.0             0.0   \n",
       "1006      54       2727           548.0          7.0             0.0   \n",
       "\n",
       "      DeathRate  RecoveredRate  \n",
       "0      0.000000       0.000000  \n",
       "1      0.000000       0.000000  \n",
       "2      0.000000       0.000000  \n",
       "3      0.000000       0.000000  \n",
       "4      0.000000       0.000000  \n",
       "...         ...            ...  \n",
       "1002   0.300031       0.695170  \n",
       "1003   0.336091       0.382336  \n",
       "1004   0.337119       0.337282  \n",
       "1005   0.502618       0.238388  \n",
       "1006   0.435708       0.178262  \n",
       "\n",
       "[1007 rows x 12 columns]"
      ]
     },
     "execution_count": 45,
     "metadata": {},
     "output_type": "execute_result"
    }
   ],
   "source": [
    "foo.groupby(['Country/Region', 'Date']).sum().reset_index()"
   ]
  },
  {
   "cell_type": "code",
   "execution_count": null,
   "metadata": {},
   "outputs": [],
   "source": []
  },
  {
   "cell_type": "code",
   "execution_count": null,
   "metadata": {},
   "outputs": [],
   "source": []
  },
  {
   "cell_type": "code",
   "execution_count": null,
   "metadata": {},
   "outputs": [],
   "source": []
  },
  {
   "cell_type": "code",
   "execution_count": null,
   "metadata": {},
   "outputs": [],
   "source": []
  },
  {
   "cell_type": "code",
   "execution_count": 20,
   "metadata": {},
   "outputs": [],
   "source": [
    "df3.to_csv('data_v0.4.csv')"
   ]
  },
  {
   "cell_type": "code",
   "execution_count": null,
   "metadata": {},
   "outputs": [],
   "source": []
  },
  {
   "cell_type": "code",
   "execution_count": null,
   "metadata": {},
   "outputs": [],
   "source": []
  },
  {
   "cell_type": "code",
   "execution_count": null,
   "metadata": {},
   "outputs": [],
   "source": []
  },
  {
   "cell_type": "code",
   "execution_count": 41,
   "metadata": {},
   "outputs": [
    {
     "data": {
      "text/html": [
       "<div>\n",
       "<style scoped>\n",
       "    .dataframe tbody tr th:only-of-type {\n",
       "        vertical-align: middle;\n",
       "    }\n",
       "\n",
       "    .dataframe tbody tr th {\n",
       "        vertical-align: top;\n",
       "    }\n",
       "\n",
       "    .dataframe thead th {\n",
       "        text-align: right;\n",
       "    }\n",
       "</style>\n",
       "<table border=\"1\" class=\"dataframe\">\n",
       "  <thead>\n",
       "    <tr style=\"text-align: right;\">\n",
       "      <th></th>\n",
       "      <th></th>\n",
       "      <th>DeathsDaily</th>\n",
       "      <th>Deaths</th>\n",
       "    </tr>\n",
       "    <tr>\n",
       "      <th>Country/Region</th>\n",
       "      <th>Date</th>\n",
       "      <th></th>\n",
       "      <th></th>\n",
       "    </tr>\n",
       "  </thead>\n",
       "  <tbody>\n",
       "    <tr>\n",
       "      <th rowspan=\"5\" valign=\"top\">Antigua and Barbuda</th>\n",
       "      <th>2020-01-22</th>\n",
       "      <td>0.0</td>\n",
       "      <td>0</td>\n",
       "    </tr>\n",
       "    <tr>\n",
       "      <th>2020-01-23</th>\n",
       "      <td>0.0</td>\n",
       "      <td>0</td>\n",
       "    </tr>\n",
       "    <tr>\n",
       "      <th>2020-01-24</th>\n",
       "      <td>0.0</td>\n",
       "      <td>0</td>\n",
       "    </tr>\n",
       "    <tr>\n",
       "      <th>2020-01-25</th>\n",
       "      <td>0.0</td>\n",
       "      <td>0</td>\n",
       "    </tr>\n",
       "    <tr>\n",
       "      <th>2020-01-26</th>\n",
       "      <td>0.0</td>\n",
       "      <td>0</td>\n",
       "    </tr>\n",
       "    <tr>\n",
       "      <th>...</th>\n",
       "      <th>...</th>\n",
       "      <td>...</td>\n",
       "      <td>...</td>\n",
       "    </tr>\n",
       "    <tr>\n",
       "      <th rowspan=\"5\" valign=\"top\">US</th>\n",
       "      <th>2020-03-10</th>\n",
       "      <td>6.0</td>\n",
       "      <td>28</td>\n",
       "    </tr>\n",
       "    <tr>\n",
       "      <th>2020-03-11</th>\n",
       "      <td>8.0</td>\n",
       "      <td>36</td>\n",
       "    </tr>\n",
       "    <tr>\n",
       "      <th>2020-03-12</th>\n",
       "      <td>4.0</td>\n",
       "      <td>40</td>\n",
       "    </tr>\n",
       "    <tr>\n",
       "      <th>2020-03-13</th>\n",
       "      <td>7.0</td>\n",
       "      <td>47</td>\n",
       "    </tr>\n",
       "    <tr>\n",
       "      <th>2020-03-14</th>\n",
       "      <td>7.0</td>\n",
       "      <td>54</td>\n",
       "    </tr>\n",
       "  </tbody>\n",
       "</table>\n",
       "<p>1007 rows × 2 columns</p>\n",
       "</div>"
      ],
      "text/plain": [
       "                                DeathsDaily  Deaths\n",
       "Country/Region      Date                           \n",
       "Antigua and Barbuda 2020-01-22          0.0       0\n",
       "                    2020-01-23          0.0       0\n",
       "                    2020-01-24          0.0       0\n",
       "                    2020-01-25          0.0       0\n",
       "                    2020-01-26          0.0       0\n",
       "...                                     ...     ...\n",
       "US                  2020-03-10          6.0      28\n",
       "                    2020-03-11          8.0      36\n",
       "                    2020-03-12          4.0      40\n",
       "                    2020-03-13          7.0      47\n",
       "                    2020-03-14          7.0      54\n",
       "\n",
       "[1007 rows x 2 columns]"
      ]
     },
     "execution_count": 41,
     "metadata": {},
     "output_type": "execute_result"
    }
   ],
   "source": [
    "foo.groupby(['Country/Region', 'Date']).sum()[values]\n"
   ]
  },
  {
   "cell_type": "code",
   "execution_count": null,
   "metadata": {},
   "outputs": [],
   "source": []
  }
 ],
 "metadata": {
  "kernelspec": {
   "display_name": "Python 3",
   "language": "python",
   "name": "python3"
  },
  "language_info": {
   "codemirror_mode": {
    "name": "ipython",
    "version": 3
   },
   "file_extension": ".py",
   "mimetype": "text/x-python",
   "name": "python",
   "nbconvert_exporter": "python",
   "pygments_lexer": "ipython3",
   "version": "3.7.4"
  },
  "latex_envs": {
   "LaTeX_envs_menu_present": true,
   "autoclose": true,
   "autocomplete": true,
   "bibliofile": "biblio.bib",
   "cite_by": "apalike",
   "current_citInitial": 1,
   "eqLabelWithNumbers": true,
   "eqNumInitial": 1,
   "hotkeys": {
    "equation": "Ctrl-E",
    "itemize": "Ctrl-I"
   },
   "labels_anchors": false,
   "latex_user_defs": false,
   "report_style_numbering": false,
   "user_envs_cfg": false
  },
  "toc": {
   "base_numbering": 1,
   "nav_menu": {},
   "number_sections": true,
   "sideBar": true,
   "skip_h1_title": false,
   "title_cell": "Table of Contents",
   "title_sidebar": "Contents",
   "toc_cell": false,
   "toc_position": {},
   "toc_section_display": true,
   "toc_window_display": false
  }
 },
 "nbformat": 4,
 "nbformat_minor": 2
}
